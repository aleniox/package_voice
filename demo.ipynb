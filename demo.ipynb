{
 "cells": [
  {
   "cell_type": "code",
   "execution_count": null,
   "metadata": {},
   "outputs": [],
   "source": [
    "from Transcribe import AnalyzeTranscript\n",
    "\n",
    "\n",
    "# transcribe = AnalyzeTranscript(True, \"file_root.wav\", select_language=None, device=\"cpu\")\n",
    "transcribe = AnalyzeTranscript()\n",
    "transcribe.cluster_option_select = True\n",
    "transcribe.wav_file = \"file_root.wav\" \n",
    "transcribe.select_language = \"vi\" # [\"vi\", \"en\", None, .....]\n",
    "\n",
    "transcribe.run()\n",
    "transcribe.result"
   ]
  },
  {
   "cell_type": "code",
   "execution_count": null,
   "metadata": {},
   "outputs": [],
   "source": [
    "while transcribe.result.not_empty:\n",
    "    chunk_seg = transcribe.result.get()\n",
    "    print(chunk_seg)"
   ]
  }
 ],
 "metadata": {
  "kernelspec": {
   "display_name": "mastervoice",
   "language": "python",
   "name": "python3"
  },
  "language_info": {
   "codemirror_mode": {
    "name": "ipython",
    "version": 3
   },
   "file_extension": ".py",
   "mimetype": "text/x-python",
   "name": "python",
   "nbconvert_exporter": "python",
   "pygments_lexer": "ipython3",
   "version": "3.9.18"
  }
 },
 "nbformat": 4,
 "nbformat_minor": 2
}
